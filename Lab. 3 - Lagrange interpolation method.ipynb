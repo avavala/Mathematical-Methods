#!/usr/bin/env python3
# -*- coding: utf-8 -*-
"""
@author: AlessandroVavala
"""
"""
Determine the Lagrange interpolation polynomial and calculate the approximate value of the function at points 0 and 7.
"""

import numpy as np

def lagrange_interpolation(x, y, xp):
    "function for Lagrange interpolation"
    
    yp = 0
    for xi, yi in zip(x,y):
        yp += yi * np.prod( (xp - x[x != xi])/(xi - x[x != xi]) )
    
    print( "For x = %.2f, y = %f" %(xp, yp) ) 


x = np.array([-2, -1, 1, 3, 4], float)
y = np.array([-90, -80, 72, 80, -180], float)

print(lagrange_interpolation(x, y, 0))
print("")
print(lagrange_interpolation(x, y, 7))


#########################

"""
Calculate, using the Lagrange interpolation polynomial, the approximate value of the function at 2, -1.
"""
x = np.array([-3, 0, 1, 4, 5], float)
y = np.array([1344, 120, 96, -252, -320], float)

print(lagrange_interpolation(x, y, -2))
print("")
print(lagrange_interpolation(x, y, -1))