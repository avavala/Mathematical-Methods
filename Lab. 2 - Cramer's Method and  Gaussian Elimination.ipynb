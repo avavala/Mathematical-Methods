{
 "cells": [
  {
   "cell_type": "markdown",
   "id": "31360cd0",
   "metadata": {},
   "source": [
    "  # Numerical Methods\n",
    "---\n",
    "### Laboratory 2 - 11th December 2021"
   ]
  },
  {
   "cell_type": "markdown",
   "id": "c5a1a1de",
   "metadata": {},
   "source": [
    "#### 1. Using the Cramer's method, solve the given system of linear equations:\n",
    "10x + 40x2 + 70x3 = 300 <br>\n",
    "20x + 50x2 + 80x3 = 360 <br>\n",
    "30x + 60x2 + 80x3 = 390"
   ]
  },
  {
   "cell_type": "code",
   "execution_count": 1,
   "id": "7b89e047",
   "metadata": {},
   "outputs": [],
   "source": [
    "import numpy as np\n",
    "\n",
    "a = np.array([[10, 40, 70],\n",
    "             [20, 50, 80],\n",
    "             [30, 60, 80]])\n",
    "\n",
    "b = np.array([300, 360, 390])"
   ]
  },
  {
   "cell_type": "code",
   "execution_count": 2,
   "id": "960e234f",
   "metadata": {
    "scrolled": false
   },
   "outputs": [
    {
     "name": "stdout",
     "output_type": "stream",
     "text": [
      "[1, 2, 3]\n"
     ]
    }
   ],
   "source": [
    "def cramer(mat, constant):\n",
    "    \n",
    "    D = np.linalg.det(mat) # determinant\n",
    "    \n",
    "    # substitution of columns with constants\n",
    "    mat1 = np.array([constant, mat[:,1], mat[:,2]])\n",
    "    mat2 = np.array([mat[:,0], constant, mat[:,2]])\n",
    "    mat3 = np.array([mat[:,0], mat[:,1], constant])   \n",
    "    \n",
    "    # determinant of new matrices\n",
    "    D1 = np.linalg.det(mat1)\n",
    "    D2 = np.linalg.det(mat2)\n",
    "    D3 = np.linalg.det(mat3)\n",
    "    \n",
    "    # calculus of Xs\n",
    "    X1 = round(D1/D)\n",
    "    X2 = round(D2/D)\n",
    "    X3 = round(D3/D)\n",
    "    \n",
    "    print([X1, X2, X3])\n",
    "\n",
    "cramer(a, b)"
   ]
  },
  {
   "cell_type": "code",
   "execution_count": 3,
   "id": "5ba0747a",
   "metadata": {},
   "outputs": [
    {
     "name": "stdout",
     "output_type": "stream",
     "text": [
      "[1. 2. 3.]\n"
     ]
    }
   ],
   "source": [
    "# check if the result is correct\n",
    "\n",
    "print(np.linalg.solve(a, b))"
   ]
  },
  {
   "cell_type": "markdown",
   "id": "b46dc810",
   "metadata": {},
   "source": [
    "#### 2. Solve the system of equations from ex.1 using the Gaussian elimination method.\n",
    "10x + 40x2 + 70x3 = 300 <br>\n",
    "20x + 50x2 + 80x3 = 360 <br>\n",
    "30x + 60x2 + 80x3 = 390"
   ]
  },
  {
   "cell_type": "code",
   "execution_count": 4,
   "id": "1afee8b5",
   "metadata": {},
   "outputs": [],
   "source": [
    "def gaussian_elimination(A, b):\n",
    "    n = len(b)\n",
    "    x = np.zeros(n) # initializing x\n",
    "\n",
    "    # forward elimination\n",
    "    # a_ij = (a_ij - a_ik/a_kk) * a_kj\n",
    "    # k: diagonals (goes from 0 to n-2)\n",
    "    # i: rows (goes from k+1 to n-1)\n",
    "    # j: cols (k to n-1)\n",
    "\n",
    "    for k in range (0, n-1): # loop over diagonals\n",
    "        for i in range (k+1, n): # loop over the rows\n",
    "            ratio = A[i, k]/A[k, k] # does not dipends from j\n",
    "            for j in range (k, n): # loop over the elements (cols) of the rows\n",
    "                A[i, j] -= ratio*A[k, j] # update the elements using the ratio multiplied the diagonal.\n",
    "                                            \n",
    "            b[i] -= ratio*b[k] # updating b-vector        \n",
    "\n",
    "    # back substitution\n",
    "    # x_n-1 = b_n-1/A_n-1, n-1\n",
    "    # x_i = (b_i - sum_j (a_ij * x_j))/a_ii\n",
    "    # i = n-2 to 0\n",
    "    # j = i+1 to n-1\n",
    "\n",
    "    x[n-1] = b[n-1]/A[n-1, n-1]\n",
    "    for i in range (n-2,-1, -1): # loop over the rows from bottom to top\n",
    "        sum_j = 0\n",
    "        for j in range (i+1, n):\n",
    "            sum_j += A[i,j]*x[j]\n",
    "        x[i] = (b[i]- sum_j)/A[i,i]\n",
    "    \n",
    "    print(A)\n",
    "    print(\"\")\n",
    "    print(b)\n",
    "    print(\"\")\n",
    "    print(x)"
   ]
  },
  {
   "cell_type": "code",
   "execution_count": 5,
   "id": "5c1c7b33",
   "metadata": {},
   "outputs": [
    {
     "name": "stdout",
     "output_type": "stream",
     "text": [
      "[[ 10  40  70]\n",
      " [  0 -30 -60]\n",
      " [  0   0 -10]]\n",
      "\n",
      "[ 300 -240  -30]\n",
      "\n",
      "[1. 2. 3.]\n"
     ]
    }
   ],
   "source": [
    "gaussian_elimination(a, b)"
   ]
  },
  {
   "cell_type": "markdown",
   "id": "4e884f99",
   "metadata": {},
   "source": [
    "#### 3.\n",
    "**A system of linear equations is given:** <br>\n",
    "x + 2x2 + 2x3= 1<br> \n",
    "3x + 3x2 = 3 <br>\n",
    "x + x3 = 2<br>\n",
    "**Check if the matrix A of the given system is singular, if not then solve the system by Gaussian elimination.**"
   ]
  },
  {
   "cell_type": "code",
   "execution_count": 6,
   "id": "8da69d11",
   "metadata": {},
   "outputs": [
    {
     "name": "stdout",
     "output_type": "stream",
     "text": [
      "[[ 1  2  2]\n",
      " [ 0 -3 -6]\n",
      " [ 0  0  3]]\n",
      "\n",
      "[1 0 1]\n",
      "\n",
      "[ 1.66666667 -0.66666667  0.33333333]\n"
     ]
    }
   ],
   "source": [
    "a = np.array([[1, 2 , 2],\n",
    "             [3, 3, 0],\n",
    "             [1, 0, 1]])\n",
    "\n",
    "b = np.array([1, 3, 2])\n",
    "\n",
    "def check(A, b):\n",
    "    if np.linalg.det(A) == 0:\n",
    "        print(\"Singular Matrix\")\n",
    "    else:\n",
    "        gaussian_elimination(A, b)\n",
    "\n",
    "check(a, b)"
   ]
  },
  {
   "cell_type": "code",
   "execution_count": null,
   "id": "eda0c50a",
   "metadata": {},
   "outputs": [],
   "source": []
  }
 ],
 "metadata": {
  "kernelspec": {
   "display_name": "Python 3",
   "language": "python",
   "name": "python3"
  },
  "language_info": {
   "codemirror_mode": {
    "name": "ipython",
    "version": 3
   },
   "file_extension": ".py",
   "mimetype": "text/x-python",
   "name": "python",
   "nbconvert_exporter": "python",
   "pygments_lexer": "ipython3",
   "version": "3.8.8"
  }
 },
 "nbformat": 4,
 "nbformat_minor": 5
}
