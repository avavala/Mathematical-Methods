{
 "cells": [
  {
   "cell_type": "markdown",
   "id": "2bbf3bf4",
   "metadata": {},
   "source": [
    "\n",
    "   # Numerical Methods\n",
    "---\n",
    "### Laboratory 1 - 27th November 2021\n",
    "\n",
    "#### Excercise 4: Write a program that determines the determinant of a second and third degree matrix"
   ]
  },
  {
   "cell_type": "code",
   "execution_count": 1,
   "id": "fc5bd64b",
   "metadata": {},
   "outputs": [],
   "source": [
    "import copy\n",
    "def get_matrix_minor(a,i):#FUNCTION TO FIND THE NEW MATRIX\n",
    "    matrix = copy.deepcopy(a) #to make a perfect copy of the matrix\n",
    "    order = len(matrix)\n",
    "    if order == 2:\n",
    "        \n",
    "        return matrix\n",
    "    else:\n",
    "        matrix.pop(0)\n",
    "        for j in matrix: \n",
    "            j.pop(i) #remove the ith element\n",
    "            \n",
    "        return matrix\n",
    "    \n",
    "def get_determinant(a):#FUNCTION TO FIND THE DETERMINANT OF A MATRIX\n",
    "    order = len(a)\n",
    "    if order == 2: #check if the matrix is order of 2\n",
    "        det = a[0][0]*a[1][1] - a[1][0]*a[0][1]\n",
    "        return det\n",
    "        \n",
    "    else: \n",
    "        det = 0\n",
    "        for i in range(len(a[0])):\n",
    "            det += ((-1)**i)*a[0][i]*get_determinant(get_matrix_minor(a,i)) #recursive function\n",
    "            return det        "
   ]
  },
  {
   "cell_type": "code",
   "execution_count": 3,
   "id": "a441e712",
   "metadata": {},
   "outputs": [
    {
     "name": "stdout",
     "output_type": "stream",
     "text": [
      "Determinant of A -->  -2\n",
      "Determinant of B -->  -3\n"
     ]
    }
   ],
   "source": [
    "A = [[1,2],[3,4]]\n",
    "B = [[1,2,3],[4,5,6],[7,8,9]]\n",
    "print(\"Determinant of A --> \",get_determinant(A))\n",
    "print(\"Determinant of B --> \",get_determinant(B))"
   ]
  },
  {
   "cell_type": "code",
   "execution_count": null,
   "id": "637befae",
   "metadata": {},
   "outputs": [],
   "source": []
  }
 ],
 "metadata": {
  "kernelspec": {
   "display_name": "Python 3",
   "language": "python",
   "name": "python3"
  },
  "language_info": {
   "codemirror_mode": {
    "name": "ipython",
    "version": 3
   },
   "file_extension": ".py",
   "mimetype": "text/x-python",
   "name": "python",
   "nbconvert_exporter": "python",
   "pygments_lexer": "ipython3",
   "version": "3.8.8"
  }
 },
 "nbformat": 4,
 "nbformat_minor": 5
}
